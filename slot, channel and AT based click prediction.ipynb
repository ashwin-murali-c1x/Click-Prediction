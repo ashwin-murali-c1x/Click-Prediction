{
 "cells": [
  {
   "cell_type": "code",
   "execution_count": 1,
   "metadata": {},
   "outputs": [],
   "source": [
    "# import packages\n",
    "import boto3\n",
    "import pandas as pd\n",
    "import warnings\n",
    "import numpy as np\n",
    "warnings.filterwarnings('ignore')"
   ]
  },
  {
   "cell_type": "code",
   "execution_count": 2,
   "metadata": {},
   "outputs": [
    {
     "name": "stdout",
     "output_type": "stream",
     "text": [
      "Connection Established\n"
     ]
    }
   ],
   "source": [
    "# establish connection with S3 \n",
    "try:\n",
    "    s3_client = boto3.client('s3')\n",
    "    s3_resource = boto3.resource('s3')\n",
    "except 's3Location not found':\n",
    "    print(\"s3Location not found\")\n",
    "except 'Invalid credentials':\n",
    "    print(\"Invalid credentials\")\n",
    "except 'Invalid region':\n",
    "    print(\"Invalid region\")\n",
    "except'No Files were found':\n",
    "    print(\"No Files were found\")\n",
    "except 'Invalid File Format' :\n",
    "    print(\"Invalid File Format\")\n",
    "except 'No Records Found':\n",
    "    print(\"No Records Found\")\n",
    "else:\n",
    "    print(\"Connection Established\")"
   ]
  },
  {
   "cell_type": "code",
   "execution_count": 3,
   "metadata": {},
   "outputs": [
    {
     "name": "stdout",
     "output_type": "stream",
     "text": [
      "9743\n"
     ]
    }
   ],
   "source": [
    "# finding keys of click logs from s3 bucket\n",
    "\n",
    "clickkeys = []\n",
    "def get_matching_s3_keys(bucket, prefix='', suffix=''):\n",
    "    \"\"\"\n",
    "    Generate the keys in an S3 bucket.\n",
    "\n",
    "    :param bucket: Name of the S3 bucket.\n",
    "    :param prefix: Only fetch keys that start with this prefix (optional).\n",
    "    :param suffix: Only fetch keys that end with this suffix (optional).\n",
    "    \"\"\"\n",
    "    kwargs = {'Bucket': bucket, 'Prefix': prefix}\n",
    "    while True:\n",
    "        resp = s3_client.list_objects_v2(**kwargs)\n",
    "        for obj in resp['Contents']:\n",
    "            key = obj['Key']\n",
    "            if key.endswith(suffix):\n",
    "                yield key\n",
    "\n",
    "        try:\n",
    "            kwargs['ContinuationToken'] = resp['NextContinuationToken']\n",
    "        except KeyError:\n",
    "            break\n",
    "for i in get_matching_s3_keys('soka-sample','click'):\n",
    "    clickkeys.append(i)\n",
    "print(len(clickkeys))"
   ]
  },
  {
   "cell_type": "code",
   "execution_count": 4,
   "metadata": {},
   "outputs": [
    {
     "name": "stdout",
     "output_type": "stream",
     "text": [
      "9999\n"
     ]
    }
   ],
   "source": [
    "# finding keys of impression logs from s3 bucket\n",
    "\n",
    "impressionkeys = []\n",
    "def get_matching_s3_keys(bucket, prefix='', suffix=''):\n",
    "    \"\"\"\n",
    "    Generate the keys in an S3 bucket.\n",
    "\n",
    "    :param bucket: Name of the S3 bucket.\n",
    "    :param prefix: Only fetch keys that start with this prefix (optional).\n",
    "    :param suffix: Only fetch keys that end with this suffix (optional).\n",
    "    \"\"\"\n",
    "    kwargs = {'Bucket': bucket, 'Prefix': prefix}\n",
    "    while True:\n",
    "        resp = s3_client.list_objects_v2(**kwargs)\n",
    "        for obj in resp['Contents']:\n",
    "            key = obj['Key']\n",
    "            if key.endswith(suffix):\n",
    "                yield key\n",
    "\n",
    "        try:\n",
    "            kwargs['ContinuationToken'] = resp['NextContinuationToken']\n",
    "        except KeyError:\n",
    "            break\n",
    "for i in get_matching_s3_keys('soka-sample','impression'):\n",
    "    impressionkeys.append(i)\n",
    "print(len(impressionkeys))"
   ]
  },
  {
   "cell_type": "code",
   "execution_count": 5,
   "metadata": {},
   "outputs": [
    {
     "name": "stdout",
     "output_type": "stream",
     "text": [
      "9070\n",
      "12302\n",
      "21372\n"
     ]
    }
   ],
   "source": [
    "# forming the dataset comprising of 'SLOT','CH', 'AT','VALUE' from click logs and impression logs\n",
    "\n",
    "clickpredictiondata = pd.DataFrame(columns=['SLOT','CH','AT','VALUE'])\n",
    "temp1 = pd.DataFrame(columns=['SLOT','CH','AT','VALUE'])\n",
    "for i in range(400):\n",
    "    obj = s3_client.get_object(Bucket='soka-sample', Key=clickkeys[i])\n",
    "    contents = obj['Body'].read()\n",
    "    df=pd.read_json(contents, lines=True)\n",
    "    df = pd.DataFrame(df[['SLOT','CH','AT']])\n",
    "    temp1 = temp1.append(df)\n",
    "for i,r in temp1.iterrows():\n",
    "    temp1.loc[i,'VALUE'] = 1\n",
    "print(len(temp1))\n",
    "temp2 = pd.DataFrame(columns=['SLOT','CH','AT','VALUE'])\n",
    "for i in range(40):\n",
    "    obj = s3_client.get_object(Bucket='soka-sample', Key=impressionkeys[i])\n",
    "    contents = obj['Body'].read()\n",
    "    df=pd.read_json(contents, lines=True)\n",
    "    df = pd.DataFrame(df[['SLOT','CH','AT']])\n",
    "    temp2 = temp2.append(df)\n",
    "for i,r in temp2.iterrows():\n",
    "    temp2.loc[i,'VALUE'] = 0\n",
    "print(len(temp2))\n",
    "clickpredictiondata = clickpredictiondata.append(temp1)\n",
    "clickpredictiondata = clickpredictiondata.append(temp2)\n",
    "print(len(clickpredictiondata))"
   ]
  },
  {
   "cell_type": "code",
   "execution_count": 6,
   "metadata": {},
   "outputs": [],
   "source": [
    "#  Finding dependent and independent variables\n",
    "\n",
    "dataset = clickpredictiondata\n",
    "X = pd.DataFrame(dataset.iloc[:, [0,1,2]].values)\n",
    "y = dataset.iloc[:, 3].values"
   ]
  },
  {
   "cell_type": "code",
   "execution_count": 7,
   "metadata": {},
   "outputs": [
    {
     "name": "stdout",
     "output_type": "stream",
     "text": [
      "[[2 0 1]\n",
      " [1 0 0]\n",
      " [1 0 1]\n",
      " ...\n",
      " [2 0 7]\n",
      " [2 0 8]\n",
      " [2 0 9]]\n"
     ]
    }
   ],
   "source": [
    "# encooding categorical columns ('CH', 'AT') step 1\n",
    "\n",
    "from sklearn.preprocessing import LabelEncoder, OneHotEncoder\n",
    "labelencoder_X = LabelEncoder() \n",
    "X = X.apply(LabelEncoder().fit_transform)\n",
    "X = X.as_matrix()\n",
    "print(X)"
   ]
  },
  {
   "cell_type": "code",
   "execution_count": 8,
   "metadata": {},
   "outputs": [
    {
     "name": "stderr",
     "output_type": "stream",
     "text": [
      "C:\\Users\\ashwi\\Anaconda3\\lib\\site-packages\\sklearn\\preprocessing\\_encoders.py:392: DeprecationWarning: The 'categorical_features' keyword is deprecated in version 0.20 and will be removed in 0.22. You can use the ColumnTransformer instead.\n",
      "  \"use the ColumnTransformer instead.\", DeprecationWarning)\n"
     ]
    }
   ],
   "source": [
    "# encooding categorical columns ('CH') step 2\n",
    "\n",
    "from sklearn.preprocessing import LabelEncoder, OneHotEncoder\n",
    "onehotencoder = OneHotEncoder(categorical_features = [0,1])\n",
    "X = onehotencoder.fit_transform(X).toarray()"
   ]
  },
  {
   "cell_type": "code",
   "execution_count": 9,
   "metadata": {},
   "outputs": [],
   "source": [
    "# splitting into training and test set\n",
    "\n",
    "from sklearn.model_selection import train_test_split\n",
    "X_train, X_test, y_train, y_test = train_test_split(X, y, test_size = 0.15)"
   ]
  },
  {
   "cell_type": "code",
   "execution_count": 10,
   "metadata": {},
   "outputs": [],
   "source": [
    "# # converting datatype of X_train\n",
    "\n",
    "X_train = np.asarray(X_train, dtype=\"float\")"
   ]
  },
  {
   "cell_type": "code",
   "execution_count": 11,
   "metadata": {},
   "outputs": [],
   "source": [
    "# converting datatype of y_train\n",
    "\n",
    "y_train = np.asarray(y_train, dtype=\"float\")"
   ]
  },
  {
   "cell_type": "code",
   "execution_count": 12,
   "metadata": {},
   "outputs": [],
   "source": [
    "# importing Suppost vector machine model\n",
    "\n",
    "from sklearn.svm import SVC\n",
    "classifier = SVC()"
   ]
  },
  {
   "cell_type": "code",
   "execution_count": 13,
   "metadata": {},
   "outputs": [
    {
     "data": {
      "text/plain": [
       "SVC(C=1.0, cache_size=200, class_weight=None, coef0=0.0,\n",
       "  decision_function_shape='ovr', degree=3, gamma='auto_deprecated',\n",
       "  kernel='rbf', max_iter=-1, probability=False, random_state=None,\n",
       "  shrinking=True, tol=0.001, verbose=False)"
      ]
     },
     "execution_count": 13,
     "metadata": {},
     "output_type": "execute_result"
    }
   ],
   "source": [
    "# fitting the model\n",
    "\n",
    "classifier.fit(X_train,y_train)"
   ]
  },
  {
   "cell_type": "code",
   "execution_count": 16,
   "metadata": {},
   "outputs": [],
   "source": [
    "# predicting the results of X_test using the model\n",
    "\n",
    "y_pred = classifier.predict(X_test)"
   ]
  },
  {
   "cell_type": "code",
   "execution_count": 114,
   "metadata": {},
   "outputs": [
    {
     "name": "stdout",
     "output_type": "stream",
     "text": [
      "Correct Prediction 2477\n",
      "Mis prediction 1167\n"
     ]
    }
   ],
   "source": [
    "# count of correct prediction\n",
    "\n",
    "cp=0\n",
    "temp=[]\n",
    "for i in range(len(y_pred)):\n",
    "    if(y_pred[i]==y_test[i]):\n",
    "        cp+=1\n",
    "print(\"Correct Prediction\",cp)\n",
    "print(\"Mis prediction\",len(y_pred)-cp)"
   ]
  },
  {
   "cell_type": "code",
   "execution_count": 17,
   "metadata": {},
   "outputs": [
    {
     "data": {
      "text/html": [
       "<div>\n",
       "<style scoped>\n",
       "    .dataframe tbody tr th:only-of-type {\n",
       "        vertical-align: middle;\n",
       "    }\n",
       "\n",
       "    .dataframe tbody tr th {\n",
       "        vertical-align: top;\n",
       "    }\n",
       "\n",
       "    .dataframe thead th {\n",
       "        text-align: right;\n",
       "    }\n",
       "</style>\n",
       "<table border=\"1\" class=\"dataframe\">\n",
       "  <thead>\n",
       "    <tr style=\"text-align: right;\">\n",
       "      <th>Predicted</th>\n",
       "      <th>0.0</th>\n",
       "      <th>1.0</th>\n",
       "      <th>All</th>\n",
       "    </tr>\n",
       "    <tr>\n",
       "      <th>Actual</th>\n",
       "      <th></th>\n",
       "      <th></th>\n",
       "      <th></th>\n",
       "    </tr>\n",
       "  </thead>\n",
       "  <tbody>\n",
       "    <tr>\n",
       "      <th>0</th>\n",
       "      <td>1355</td>\n",
       "      <td>498</td>\n",
       "      <td>1853</td>\n",
       "    </tr>\n",
       "    <tr>\n",
       "      <th>1</th>\n",
       "      <td>487</td>\n",
       "      <td>866</td>\n",
       "      <td>1353</td>\n",
       "    </tr>\n",
       "    <tr>\n",
       "      <th>All</th>\n",
       "      <td>1842</td>\n",
       "      <td>1364</td>\n",
       "      <td>3206</td>\n",
       "    </tr>\n",
       "  </tbody>\n",
       "</table>\n",
       "</div>"
      ],
      "text/plain": [
       "Predicted   0.0   1.0   All\n",
       "Actual                     \n",
       "0          1355   498  1853\n",
       "1           487   866  1353\n",
       "All        1842  1364  3206"
      ]
     },
     "execution_count": 17,
     "metadata": {},
     "output_type": "execute_result"
    }
   ],
   "source": [
    "# Confusion matrix of click probablity with features (slot, channel)\n",
    "\n",
    "df_confusion = pd.crosstab(y_test, y_pred, rownames=['Actual'], colnames=['Predicted'], margins=True)\n",
    "df_confusion"
   ]
  },
  {
   "cell_type": "code",
   "execution_count": 138,
   "metadata": {},
   "outputs": [
    {
     "data": {
      "text/plain": [
       "array([0.])"
      ]
     },
     "execution_count": 138,
     "metadata": {},
     "output_type": "execute_result"
    }
   ],
   "source": [
    "# predicting a random data\n",
    "\n",
    "temp = [[1,0,0,1],]\n",
    "classifier.predict(temp)"
   ]
  }
 ],
 "metadata": {
  "kernelspec": {
   "display_name": "Python 3",
   "language": "python",
   "name": "python3"
  },
  "language_info": {
   "codemirror_mode": {
    "name": "ipython",
    "version": 3
   },
   "file_extension": ".py",
   "mimetype": "text/x-python",
   "name": "python",
   "nbconvert_exporter": "python",
   "pygments_lexer": "ipython3",
   "version": "3.7.0"
  }
 },
 "nbformat": 4,
 "nbformat_minor": 2
}
